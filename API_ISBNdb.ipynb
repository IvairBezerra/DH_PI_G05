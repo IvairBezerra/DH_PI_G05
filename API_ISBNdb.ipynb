{
 "cells": [
  {
   "cell_type": "code",
   "execution_count": null,
   "id": "b23c8530",
   "metadata": {},
   "outputs": [],
   "source": [
    "import requests as req\n",
    "import json\n",
    "\n",
    "import pandas as pd"
   ]
  },
  {
   "cell_type": "markdown",
   "id": "a141bb1c",
   "metadata": {},
   "source": [
    "## Connecting to isbndb API "
   ]
  },
  {
   "cell_type": "code",
   "execution_count": null,
   "id": "d21e47ac",
   "metadata": {},
   "outputs": [],
   "source": [
    "#home page: https://isbndb.com/\n",
    "#doc: https://isbndb.com/apidocs/v2\n",
    "\n",
    "h = {'Authorization': '48848_0d5c41033956592917fb92bcd923b67a'}"
   ]
  },
  {
   "cell_type": "markdown",
   "id": "fed9d264",
   "metadata": {},
   "source": [
    "## Collecting data"
   ]
  },
  {
   "cell_type": "code",
   "execution_count": null,
   "id": "176c623e",
   "metadata": {},
   "outputs": [],
   "source": [
    "#Slicing ISBN\n",
    "dfBooks = pd.read_csv('Books_.csv',low_memory=False)\n",
    "\n",
    "dfList = dfBooks.iloc[0:, 0:1]\n",
    "dfList2 = dfBooks2.iloc[0:, 12:14]\n",
    "dfList2.rename(columns = {'isbn':'ISBN'},inplace = True)\n",
    "\n",
    "dfList3 = dfList.merge(dfList2, how = 'left', on = 'ISBN')\n",
    "dfList4 = dfList3[dfList3['isbn10'].isnull()]\n",
    "\n",
    "#list size of search\n",
    "group_size = 500\n",
    "\n",
    "#Slicing ISBN\n",
    "dfList4 = dfList4.iloc[0:group_size, 0:1]\n",
    "\n",
    "#List of ISBN\n",
    "dfList4 = dfList4['ISBN'].values.tolist()\n",
    "\n",
    "#batch search\n",
    "df = pd.DataFrame()\n",
    "for i in dfList4:\n",
    "    resp = req.get(f\"https://api2.isbndb.com/book/{i}\", headers=h).json()\n",
    "    x = pd.DataFrame.from_dict(resp, 'index')\n",
    "    df = df.append(x,ignore_index=True)\n",
    "    \n",
    "df.drop(columns = 0,inplace = True)\n",
    "df1 = pd.concat([dfBooks2,df])\n",
    "df1.shape\n",
    "\n",
    "#Export\n",
    "df1.to_excel(\"Books2.xlsx\",index = False)\n",
    "df1.head(1)"
   ]
  }
 ],
 "metadata": {
  "kernelspec": {
   "display_name": "Python 3 (ipykernel)",
   "language": "python",
   "name": "python3"
  },
  "language_info": {
   "codemirror_mode": {
    "name": "ipython",
    "version": 3
   },
   "file_extension": ".py",
   "mimetype": "text/x-python",
   "name": "python",
   "nbconvert_exporter": "python",
   "pygments_lexer": "ipython3",
   "version": "3.9.12"
  }
 },
 "nbformat": 4,
 "nbformat_minor": 5
}
