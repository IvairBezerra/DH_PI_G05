{
 "cells": [
  {
   "cell_type": "markdown",
   "id": "9de03e25",
   "metadata": {},
   "source": [
    "## Import libs"
   ]
  },
  {
   "cell_type": "code",
   "execution_count": 1,
   "id": "9c0180a7",
   "metadata": {},
   "outputs": [],
   "source": [
    "import requests as req\n",
    "import numpy as np\n",
    "import pandas as pd\n",
    "import json\n",
    "\n",
    "import warnings\n",
    "warnings.filterwarnings('ignore')"
   ]
  },
  {
   "cell_type": "markdown",
   "id": "052e56ad",
   "metadata": {},
   "source": [
    "## Connecting to isbndb API "
   ]
  },
  {
   "cell_type": "code",
   "execution_count": 2,
   "id": "80fb4fd4",
   "metadata": {},
   "outputs": [],
   "source": [
    "#home page: https://isbndb.com/\n",
    "#doc: https://isbndb.com/apidocs/v2\n",
    "\n",
    "h = {'Authorization': '48848_0d5c41033956592917fb92bcd923b67a'}"
   ]
  },
  {
   "cell_type": "markdown",
   "id": "d24197fb",
   "metadata": {},
   "source": [
    "## Import Kaggle data books"
   ]
  },
  {
   "cell_type": "code",
   "execution_count": 84,
   "id": "6d73bb01",
   "metadata": {
    "scrolled": false
   },
   "outputs": [
    {
     "data": {
      "text/html": [
       "<div>\n",
       "<style scoped>\n",
       "    .dataframe tbody tr th:only-of-type {\n",
       "        vertical-align: middle;\n",
       "    }\n",
       "\n",
       "    .dataframe tbody tr th {\n",
       "        vertical-align: top;\n",
       "    }\n",
       "\n",
       "    .dataframe thead th {\n",
       "        text-align: right;\n",
       "    }\n",
       "</style>\n",
       "<table border=\"1\" class=\"dataframe\">\n",
       "  <thead>\n",
       "    <tr style=\"text-align: right;\">\n",
       "      <th></th>\n",
       "      <th>ISBN</th>\n",
       "      <th>Book-Title</th>\n",
       "      <th>Book-Author</th>\n",
       "      <th>Year-Of-Publication</th>\n",
       "      <th>Publisher</th>\n",
       "      <th>Image-URL-S</th>\n",
       "      <th>Image-URL-M</th>\n",
       "      <th>Image-URL-L</th>\n",
       "    </tr>\n",
       "  </thead>\n",
       "  <tbody>\n",
       "    <tr>\n",
       "      <th>0</th>\n",
       "      <td>0195153448</td>\n",
       "      <td>Classical Mythology</td>\n",
       "      <td>Mark P. O. Morford</td>\n",
       "      <td>2002</td>\n",
       "      <td>Oxford University Press</td>\n",
       "      <td>http://images.amazon.com/images/P/0195153448.0...</td>\n",
       "      <td>http://images.amazon.com/images/P/0195153448.0...</td>\n",
       "      <td>http://images.amazon.com/images/P/0195153448.0...</td>\n",
       "    </tr>\n",
       "  </tbody>\n",
       "</table>\n",
       "</div>"
      ],
      "text/plain": [
       "         ISBN           Book-Title         Book-Author Year-Of-Publication  \\\n",
       "0  0195153448  Classical Mythology  Mark P. O. Morford                2002   \n",
       "\n",
       "                 Publisher                                        Image-URL-S  \\\n",
       "0  Oxford University Press  http://images.amazon.com/images/P/0195153448.0...   \n",
       "\n",
       "                                         Image-URL-M  \\\n",
       "0  http://images.amazon.com/images/P/0195153448.0...   \n",
       "\n",
       "                                         Image-URL-L  \n",
       "0  http://images.amazon.com/images/P/0195153448.0...  "
      ]
     },
     "execution_count": 84,
     "metadata": {},
     "output_type": "execute_result"
    }
   ],
   "source": [
    "dfBooks = pd.read_csv('Books.csv',low_memory=False)\n",
    "dfUsers = pd.read_csv('Ratings.csv',low_memory=False)\n",
    "dfRating = pd.read_csv('Users.csv',low_memory=False)"
   ]
  },
  {
   "cell_type": "code",
   "execution_count": 116,
   "id": "a4e60c6d",
   "metadata": {},
   "outputs": [
    {
     "data": {
      "text/plain": [
       "(2499, 19)"
      ]
     },
     "execution_count": 116,
     "metadata": {},
     "output_type": "execute_result"
    }
   ],
   "source": [
    "dfBooks2 = pd.read_excel('Books2.xlsx')\n",
    "dfBooks2.shape"
   ]
  },
  {
   "cell_type": "markdown",
   "id": "b9f175f9",
   "metadata": {},
   "source": [
    "## Collecting data"
   ]
  },
  {
   "cell_type": "code",
   "execution_count": 117,
   "id": "8b585f9f",
   "metadata": {},
   "outputs": [],
   "source": [
    "#Slicing ISBN\n",
    "dfList = dfBooks.iloc[0:, 0:1]\n",
    "dfList2 = dfBooks2.iloc[0:, 12:14]\n",
    "dfList2.rename(columns = {'isbn':'ISBN'},inplace = True)\n",
    "\n",
    "dfList3 = dfList.merge(dfList2, how = 'left', on = 'ISBN')\n",
    "dfList4 = dfList3[dfList3['isbn10'].isnull()]"
   ]
  },
  {
   "cell_type": "code",
   "execution_count": 118,
   "id": "f9d2d484",
   "metadata": {},
   "outputs": [],
   "source": [
    "#list size of search\n",
    "group_size = 500\n",
    "\n",
    "#Slicing ISBN\n",
    "dfList4 = dfList4.iloc[0:group_size, 0:1]\n",
    "\n",
    "#List of ISBN\n",
    "dfList4 = dfList4['ISBN'].values.tolist()\n",
    "\n",
    "#batch search\n",
    "df = pd.DataFrame()\n",
    "for i in dfList4:\n",
    "    resp = req.get(f\"https://api2.isbndb.com/book/{i}\", headers=h).json()\n",
    "    x = pd.DataFrame.from_dict(resp, 'index')\n",
    "    df = df.append(x,ignore_index=True)"
   ]
  },
  {
   "cell_type": "code",
   "execution_count": 119,
   "id": "7e00afce",
   "metadata": {},
   "outputs": [
    {
     "data": {
      "text/plain": [
       "(2999, 19)"
      ]
     },
     "execution_count": 119,
     "metadata": {},
     "output_type": "execute_result"
    }
   ],
   "source": [
    "df.drop(columns = 0,inplace = True)\n",
    "df1 = pd.concat([dfBooks2,df])\n",
    "df1.shape"
   ]
  },
  {
   "cell_type": "code",
   "execution_count": 120,
   "id": "d7c3dfdd",
   "metadata": {},
   "outputs": [
    {
     "data": {
      "text/html": [
       "<div>\n",
       "<style scoped>\n",
       "    .dataframe tbody tr th:only-of-type {\n",
       "        vertical-align: middle;\n",
       "    }\n",
       "\n",
       "    .dataframe tbody tr th {\n",
       "        vertical-align: top;\n",
       "    }\n",
       "\n",
       "    .dataframe thead th {\n",
       "        text-align: right;\n",
       "    }\n",
       "</style>\n",
       "<table border=\"1\" class=\"dataframe\">\n",
       "  <thead>\n",
       "    <tr style=\"text-align: right;\">\n",
       "      <th></th>\n",
       "      <th>publisher</th>\n",
       "      <th>language</th>\n",
       "      <th>image</th>\n",
       "      <th>title_long</th>\n",
       "      <th>edition</th>\n",
       "      <th>dimensions</th>\n",
       "      <th>date_published</th>\n",
       "      <th>authors</th>\n",
       "      <th>title</th>\n",
       "      <th>isbn13</th>\n",
       "      <th>msrp</th>\n",
       "      <th>binding</th>\n",
       "      <th>isbn</th>\n",
       "      <th>isbn10</th>\n",
       "      <th>pages</th>\n",
       "      <th>synopsis</th>\n",
       "      <th>subjects</th>\n",
       "      <th>related</th>\n",
       "      <th>other_isbns</th>\n",
       "    </tr>\n",
       "  </thead>\n",
       "  <tbody>\n",
       "    <tr>\n",
       "      <th>0</th>\n",
       "      <td>Harper Uk</td>\n",
       "      <td>en</td>\n",
       "      <td>https://images.isbndb.com/covers/79/76/9780001...</td>\n",
       "      <td>Brave New World</td>\n",
       "      <td>Unabridged</td>\n",
       "      <td>Height: 5.5 Inches, Length: 4.75 Inches, Weigh...</td>\n",
       "      <td>1999.0</td>\n",
       "      <td>['Huxley, Aldous']</td>\n",
       "      <td>Brave New World</td>\n",
       "      <td>9780001047976</td>\n",
       "      <td>0.0</td>\n",
       "      <td>Audio Cassette</td>\n",
       "      <td>0001047973</td>\n",
       "      <td>0001047973</td>\n",
       "      <td>NaN</td>\n",
       "      <td>NaN</td>\n",
       "      <td>NaN</td>\n",
       "      <td>NaN</td>\n",
       "      <td>NaN</td>\n",
       "    </tr>\n",
       "  </tbody>\n",
       "</table>\n",
       "</div>"
      ],
      "text/plain": [
       "   publisher language                                              image  \\\n",
       "0  Harper Uk       en  https://images.isbndb.com/covers/79/76/9780001...   \n",
       "\n",
       "        title_long     edition  \\\n",
       "0  Brave New World  Unabridged   \n",
       "\n",
       "                                          dimensions date_published  \\\n",
       "0  Height: 5.5 Inches, Length: 4.75 Inches, Weigh...         1999.0   \n",
       "\n",
       "              authors            title         isbn13 msrp         binding  \\\n",
       "0  ['Huxley, Aldous']  Brave New World  9780001047976  0.0  Audio Cassette   \n",
       "\n",
       "         isbn      isbn10  pages synopsis subjects related other_isbns  \n",
       "0  0001047973  0001047973    NaN      NaN      NaN     NaN         NaN  "
      ]
     },
     "execution_count": 120,
     "metadata": {},
     "output_type": "execute_result"
    }
   ],
   "source": [
    "#Export\n",
    "df1.to_excel(\"Books2.xlsx\",index = False)\n",
    "df1.head(1)"
   ]
  }
 ],
 "metadata": {
  "kernelspec": {
   "display_name": "Python 3 (ipykernel)",
   "language": "python",
   "name": "python3"
  },
  "language_info": {
   "codemirror_mode": {
    "name": "ipython",
    "version": 3
   },
   "file_extension": ".py",
   "mimetype": "text/x-python",
   "name": "python",
   "nbconvert_exporter": "python",
   "pygments_lexer": "ipython3",
   "version": "3.9.12"
  }
 },
 "nbformat": 4,
 "nbformat_minor": 5
}
